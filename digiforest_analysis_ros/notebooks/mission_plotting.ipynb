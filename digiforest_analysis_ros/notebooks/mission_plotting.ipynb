{
 "cells": [
  {
   "cell_type": "code",
   "execution_count": null,
   "metadata": {},
   "outputs": [],
   "source": [
    "import numpy as np\n",
    "import pandas as pd\n",
    "import matplotlib.pyplot as plt\n",
    "import os\n",
    "from pathlib import Path"
   ]
  },
  {
   "cell_type": "code",
   "execution_count": null,
   "metadata": {},
   "outputs": [],
   "source": [
    "# Folder\n",
    "mission_path = os.path.join(Path().home(), \"digiforest_mission_data/latest\")"
   ]
  },
  {
   "attachments": {},
   "cell_type": "markdown",
   "metadata": {},
   "source": [
    "## Matplotlib config"
   ]
  },
  {
   "cell_type": "code",
   "execution_count": null,
   "metadata": {},
   "outputs": [],
   "source": [
    "cm = 1/2.54\n",
    "plot_width = 8.89*cm\n",
    "plot_height = 4*cm\n",
    "\n",
    "plt.rcParams['font.size'] = 8"
   ]
  },
  {
   "attachments": {},
   "cell_type": "markdown",
   "metadata": {},
   "source": [
    "## Load data"
   ]
  },
  {
   "attachments": {},
   "cell_type": "markdown",
   "metadata": {},
   "source": [
    "### Load twist files"
   ]
  },
  {
   "cell_type": "code",
   "execution_count": null,
   "metadata": {},
   "outputs": [],
   "source": [
    "base_inverted = True\n",
    "\n",
    "def read_twist_file(filename, base_inverted=False):\n",
    "  df = pd.read_csv(filename)\n",
    "\n",
    "  # Generate timestamp from sec and nsec\n",
    "  ts = 1e9*df[\"sec\"] + df[\"nsec\"] # In nanoseconds\n",
    "  df.index = pd.to_datetime(ts)\n",
    "  \n",
    "  # Correct twist due to base inversion\n",
    "  if base_inverted:\n",
    "    df[\"vx\"] *=-1\n",
    "    df[\"vy\"] *=-1\n",
    "  \n",
    "  # Speeds\n",
    "  df[\"lin_speed\"] = (df[\"vx\"]**2 + df[\"vy\"]**2).pow(1./2)\n",
    "  df[\"ang_speed\"] = df[\"wz\"].abs()\n",
    "\n",
    "  return df\n",
    "\n",
    "df_state_twist = read_twist_file(os.path.join(mission_path, \"states/state_twist_data.csv\"), base_inverted=True)\n",
    "df_operator_twist = read_twist_file(os.path.join(mission_path, \"states/operator_twist_data.csv\"), base_inverted=True)\n",
    "\n",
    "# Extend indices\n",
    "joined_indices = df_state_twist.index.union(df_operator_twist.index).drop_duplicates()\n",
    "\n",
    "df_state_twist = df_state_twist.reindex(index=joined_indices)\n",
    "df_state_twist = df_state_twist.interpolate(method=\"index\")"
   ]
  },
  {
   "attachments": {},
   "cell_type": "markdown",
   "metadata": {},
   "source": [
    "### Read other operator signals"
   ]
  },
  {
   "cell_type": "code",
   "execution_count": null,
   "metadata": {},
   "outputs": [],
   "source": []
  },
  {
   "attachments": {},
   "cell_type": "markdown",
   "metadata": {},
   "source": [
    "### Determine operator interventions\n",
    "This is required for autonomy metrics"
   ]
  },
  {
   "cell_type": "code",
   "execution_count": null,
   "metadata": {},
   "outputs": [],
   "source": [
    "# Interventions from safety officer\n",
    "df_state_twist[\"safety_intervention\"] = df_operator_twist[\"lin_speed\"] > 0.01\n",
    "df_state_twist[\"safety_intervention\"] = df_state_twist[\"safety_intervention\"].interpolate(method=\"pad\")\n",
    "\n",
    "# Interventions from forestry operator\n",
    "\n",
    "\n",
    "# Total interventions\n",
    "df_state_twist[\"interventions\"] = df_state_twist[\"safety_intervention\"]"
   ]
  },
  {
   "attachments": {},
   "cell_type": "markdown",
   "metadata": {},
   "source": [
    "### Load SLAM graph\n",
    "Required for distance computation and coverage"
   ]
  },
  {
   "cell_type": "code",
   "execution_count": null,
   "metadata": {},
   "outputs": [],
   "source": [
    "from scipy.spatial.transform import Rotation as R\n",
    "\n",
    "def read_slam_file(filename):\n",
    "  df = pd.read_csv(filename)\n",
    "\n",
    "  # Generate timestamp from sec and nsec\n",
    "  ts = 1e9*df[\"sec\"] + df[\"nsec\"] # In nanoseconds\n",
    "  df.index = pd.to_datetime(ts)\n",
    "\n",
    "  # Parse data\n",
    "  poses = {}\n",
    "  for ts,x,y,z,qx,qy,qz,qw in zip(df.index,df[\"x\"], df[\"y\"], df[\"z\"], df[\"qx\"], df[\"qy\"], df[\"qz\"], df[\"qw\"]):\n",
    "    poses[f\"{ts:.10f}\"] = np.eye(4)\n",
    "    poses[f\"{ts:.10f}\"][0:3,3] = np.array([x,y,z]) \n",
    "    poses[f\"{ts:.10f}\"][0:3,0:3] = R.from_quat([qx,qy,qz,qw]).as_matrix()\n",
    "\n",
    "  return df, poses\n",
    "\n",
    "df_slam, slam_graph = read_slam_file(os.path.join(mission_path, \"states/slam_graph_data.csv\"))\n"
   ]
  },
  {
   "attachments": {},
   "cell_type": "markdown",
   "metadata": {},
   "source": [
    "#### Estimate area"
   ]
  },
  {
   "cell_type": "code",
   "execution_count": null,
   "metadata": {},
   "outputs": [],
   "source": [
    "slam_points = df_slam[[\"x\", \"y\"]].to_numpy()\n",
    "\n",
    "# hull = ConvexHull(slam_points, incremental=True)\n",
    "\n",
    "# import matplotlib.pyplot as plt\n",
    "# plt.plot(slam_points[:,0], slam_points[:,1], 'o')\n",
    "\n",
    "# for simplex in hull.simplices:\n",
    "#     plt.plot(slam_points[simplex, 0], slam_points[simplex, 1], 'k-')\n",
    "\n",
    "import shapely\n",
    "import shapely.plotting\n",
    "\n",
    "points = shapely.MultiPoint(slam_points)\n",
    "hull = points.convex_hull\n",
    "\n",
    "sensor_range = 30 / 2\n",
    "\n",
    "sensing_hull = hull.buffer(sensor_range)\n",
    "\n",
    "plot_width = 12*cm\n",
    "plot_height = 5*cm\n",
    "fig, ax = plt.subplots(1,1, figsize=(plot_width, plot_height), constrained_layout=False, dpi=300)\n",
    "plt.grid(axis='both', color='0.8', linewidth=0.3)\n",
    "\n",
    "shapely.plotting.plot_points(points, markersize=1, color=(0.1,0.1,0.1))\n",
    "shapely.plotting.plot_polygon(hull.buffer(sensor_range*0.25), add_points=False, color=(0,0.5,1), linewidth=0, alpha=0.1)\n",
    "shapely.plotting.plot_polygon(hull.buffer(sensor_range*0.50), add_points=False, color=(0,0.5,1), linewidth=0, alpha=0.1)\n",
    "shapely.plotting.plot_polygon(hull.buffer(sensor_range*0.75), add_points=False, color=(0,0.5,1), linewidth=0, alpha=0.1)\n",
    "shapely.plotting.plot_polygon(hull.buffer(sensor_range*1.00), add_points=False, color=(0,0.5,1), linewidth=0, alpha=0.1)\n",
    "# shapely.plotting.plot_polygon(hull, add_points=False)\n",
    "\n",
    "ax.set_xlabel('x [m]')\n",
    "ax.set_ylabel('y [m]')\n",
    "ax.margins(x=0.1, y=0.1)\n"
   ]
  },
  {
   "attachments": {},
   "cell_type": "markdown",
   "metadata": {},
   "source": [
    "#### "
   ]
  },
  {
   "attachments": {},
   "cell_type": "markdown",
   "metadata": {},
   "source": [
    "### Normalize time"
   ]
  },
  {
   "cell_type": "code",
   "execution_count": null,
   "metadata": {},
   "outputs": [],
   "source": [
    "ref_ts = df_state_twist.index[0]\n",
    "df_state_twist.index = df_state_twist.index - ref_ts\n",
    "df_operator_twist.index = df_operator_twist.index - ref_ts\n",
    "df_slam.index = df_slam.index - ref_ts"
   ]
  },
  {
   "attachments": {},
   "cell_type": "markdown",
   "metadata": {},
   "source": [
    "## Mission statistics"
   ]
  },
  {
   "cell_type": "code",
   "execution_count": null,
   "metadata": {},
   "outputs": [],
   "source": [
    "import scipy.integrate as integrate\n",
    "\n",
    "stats = {}\n",
    "\n",
    "# Constants\n",
    "stats[\"sqm_to_ha\"] = 0.0001\n",
    "stats[\"sec_to_min\"] = 1 / 60\n",
    "stats[\"sec_to_hour\"] = 1 / 3600\n",
    "\n",
    "# Speed\n",
    "stats[\"max_lin_speed\"]  = df_state_twist[\"lin_speed\"].max()\n",
    "stats[\"min_lin_speed\"]  = df_state_twist[\"lin_speed\"].min()\n",
    "stats[\"mean_lin_speed\"] = df_state_twist[\"lin_speed\"].mean()\n",
    "stats[\"std_lin_speed\"] = df_state_twist[\"lin_speed\"].std()\n",
    "\n",
    "stats[\"mean_ang_speed\"] = df_state_twist[\"ang_speed\"].mean()\n",
    "stats[\"std_ang_speed\"] = df_state_twist[\"ang_speed\"].std()\n",
    "\n",
    "# Distance walked\n",
    "stats[\"distance\"] = df_slam[[\"x\",\"y\",\"z\"]].diff().apply(lambda values: sum([v**2 for v in values]), axis=1).sum()\n",
    "\n",
    "# Mission time\n",
    "stats[\"time\"] = (df_slam.index[-1] - df_slam.index[0]).total_seconds()\n",
    "\n",
    "# Interventions\n",
    "stats[\"interventions\"] = integrate.simpson(df_state_twist[\"interventions\"], df_state_twist.index.total_seconds())\n",
    "\n",
    "# Percentaje of interventions\n",
    "stats[\"interventions_perc\"] = stats[\"interventions\"] / stats[\"time\"] * 100\n",
    "\n",
    "# Area covered\n",
    "stats[\"area\"] = hull.area * stats[\"sqm_to_ha\"]\n",
    "stats[\"sensor_range\"] = sensor_range\n",
    "stats[\"sensed_area\"] = sensing_hull.area * stats[\"sqm_to_ha\"]\n",
    "\n",
    "# Hectares per second\n",
    "stats[\"hectares_per_sec\"] = stats[\"area\"] / stats[\"time\"]\n",
    "stats[\"hectares_per_min\"] = stats[\"area\"] / (stats[\"time\"] * stats[\"sec_to_min\"])\n",
    "stats[\"hectares_per_hour\"] = stats[\"area\"] / (stats[\"time\"] * stats[\"sec_to_hour\"])\n",
    "\n",
    "# Print\n",
    "for k,v in stats.items():\n",
    "  print(f\"{k:>20}: {v:<20.4f}\")"
   ]
  },
  {
   "attachments": {},
   "cell_type": "markdown",
   "metadata": {},
   "source": [
    "## Plots"
   ]
  },
  {
   "attachments": {},
   "cell_type": "markdown",
   "metadata": {},
   "source": [
    "### Robot velocity"
   ]
  },
  {
   "cell_type": "code",
   "execution_count": null,
   "metadata": {},
   "outputs": [],
   "source": [
    "fig, ax = plt.subplots(1,1, figsize=(plot_width, plot_height), constrained_layout=False, dpi=300)\n",
    "\n",
    "plt.plot(df_state_twist.index.total_seconds(), df_state_twist[\"lin_speed\"], label=\"Robot speed\")\n",
    "plt.plot(df_operator_twist.index.total_seconds(), df_operator_twist[\"lin_speed\"], label=\"Operator command\")\n",
    "\n",
    "ax.legend(edgecolor=(1, 1, 1, 0), framealpha=0.9, loc=(0, 1.1), ncol=2)\n",
    "#ax.set_title('Computation Time')\n",
    "ax.set_xlabel('Time [s]')\n",
    "ax.set_ylabel('Speed [m/s]')\n",
    "ax.margins(x=0)\n",
    "\n",
    "# Export\n",
    "fig.set_tight_layout(True)\n",
    "fig.savefig(os.path.join(mission_path, \"mission_velocity.pdf\"))"
   ]
  },
  {
   "attachments": {},
   "cell_type": "markdown",
   "metadata": {},
   "source": [
    "### Autonomy plot"
   ]
  },
  {
   "cell_type": "code",
   "execution_count": null,
   "metadata": {},
   "outputs": [],
   "source": []
  }
 ],
 "metadata": {
  "kernelspec": {
   "display_name": "env",
   "language": "python",
   "name": "python3"
  },
  "language_info": {
   "codemirror_mode": {
    "name": "ipython",
    "version": 3
   },
   "file_extension": ".py",
   "mimetype": "text/x-python",
   "name": "python",
   "nbconvert_exporter": "python",
   "pygments_lexer": "ipython3",
   "version": "3.8.10"
  },
  "orig_nbformat": 4
 },
 "nbformat": 4,
 "nbformat_minor": 2
}
