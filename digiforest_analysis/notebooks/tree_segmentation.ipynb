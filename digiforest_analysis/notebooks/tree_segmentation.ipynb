{
 "cells": [
  {
   "cell_type": "code",
   "execution_count": null,
   "id": "a07e0c2f-7410-41e4-ac3b-9a3ffa6143cc",
   "metadata": {
    "tags": []
   },
   "outputs": [],
   "source": [
    "import open3d as o3d\n",
    "import numpy as np\n",
    "import matplotlib.pyplot as plt"
   ]
  },
  {
   "cell_type": "code",
   "execution_count": null,
   "id": "bba32d3a-3d95-45cf-b284-355491ef85e6",
   "metadata": {
    "tags": []
   },
   "outputs": [],
   "source": [
    "# load data\n",
    "pcd_file = \"/Users/matias/digiforest/anymal_clouds/forest_cloud.pcd\"\n",
    "pcd = o3d.t.io.read_point_cloud(pcd_file)\n",
    "print(pcd)\n",
    "o3d.visualization.draw_geometries([pcd.to_legacy()],\n",
    "                                  zoom=0.5,\n",
    "                                  front=[0.79, 0.02, 0.60],\n",
    "                                  lookat=[2.61, 2.04, 1.53],\n",
    "                                  up=[-0.60, -0.012, 0.79])"
   ]
  },
  {
   "cell_type": "code",
   "execution_count": null,
   "id": "dbc95ab7",
   "metadata": {},
   "outputs": [],
   "source": [
    "# Visualize segmentation results\n",
    "def visualize(cloud, labels):\n",
    "    cmap = plt.get_cmap(\"tab20\")\n",
    "    colors = cmap(labels / (max_label if max_label > 0 else 1))\n",
    "    colors[labels < 0] = 0\n",
    "    cloud.colors = o3d.utility.Vector3dVector(colors[:, :3])\n",
    "    o3d.visualization.draw_geometries([cloud],\n",
    "                                    zoom=0.5,\n",
    "                                    front=[0.79, 0.02, 0.60],\n",
    "                                    lookat=[2.61, 2.04, 1.53],\n",
    "                                    up=[-0.60, -0.012, 0.79])"
   ]
  },
  {
   "cell_type": "code",
   "execution_count": null,
   "id": "1e43163c",
   "metadata": {},
   "outputs": [],
   "source": [
    "mask = (pcd.point.normals[:, 2]>=-0.5) & (pcd.point.normals[:, 2]<=0.5)\n",
    "pcd = pcd.select_by_mask(mask).to_legacy()"
   ]
  },
  {
   "cell_type": "code",
   "execution_count": null,
   "id": "65f27b74",
   "metadata": {},
   "outputs": [],
   "source": [
    "pcd = pcd.voxel_down_sample(voxel_size=0.5)\n",
    "o3d.visualization.draw_geometries([pcd],\n",
    "                                  zoom=0.5,\n",
    "                                  front=[0.79, 0.02, 0.60],\n",
    "                                  lookat=[2.61, 2.04, 1.53],\n",
    "                                  up=[-0.60, -0.012, 0.79])"
   ]
  },
  {
   "cell_type": "code",
   "execution_count": null,
   "id": "3749f609-c143-4ab0-b9a0-83e46f3ff315",
   "metadata": {
    "tags": []
   },
   "outputs": [],
   "source": [
    "# DBSCAN (open3d)\n",
    "eps = 0.5\n",
    "min_cluster_size = 50\n",
    "labels = np.array(pcd.cluster_dbscan(eps=eps, min_points=min_cluster_size, print_progress=False))\n",
    "max_label = labels.max()\n",
    "print(\"num_clusters = %d\" % (max_label + 1))\n",
    "visualize(pcd, labels)"
   ]
  },
  {
   "cell_type": "code",
   "execution_count": null,
   "id": "86d97afb-49e8-4b97-b687-faf106076c52",
   "metadata": {
    "tags": []
   },
   "outputs": [],
   "source": [
    "# DBSCAN (sklearn)\n",
    "from sklearn.cluster import DBSCAN\n",
    "X = np.asarray(pcd.points)[:,:2]\n",
    "eps = 0.2\n",
    "min_cluster_size = 20\n",
    "db = DBSCAN(eps=0.3, min_samples=min_cluster_size).fit(X)\n",
    "labels = db.labels_\n",
    "max_label = labels.max()\n",
    "print(\"num_clusters = %d\" % (max_label + 1))\n",
    "visualize(pcd, labels)"
   ]
  },
  {
   "cell_type": "code",
   "execution_count": null,
   "id": "a5716d8d-4be3-4a1e-9bfe-c23a0a1b61cc",
   "metadata": {
    "tags": []
   },
   "outputs": [],
   "source": [
    "# HDBSCAN\n",
    "from sklearn.cluster import HDBSCAN\n",
    "X = np.asarray(pcd.points)[:,:2]\n",
    "min_cluster_size = 100\n",
    "hdb = HDBSCAN(min_cluster_size=20)\n",
    "hdb.fit(X)\n",
    "labels = hdb.labels_\n",
    "max_label = labels.max()\n",
    "print(\"num_clusters = %d\" % (max_label + 1))\n",
    "visualize(pcd, labels)"
   ]
  },
  {
   "cell_type": "code",
   "execution_count": null,
   "id": "289ad4b3-b9e6-4e33-941f-bfb41d1b5047",
   "metadata": {
    "tags": []
   },
   "outputs": [],
   "source": [
    "# OPTICS (O(n^2)- Not Suitable for large pointclouds)\n",
    "from sklearn.cluster import OPTICS, cluster_optics_dbscan\n",
    "X = np.asarray(pcd.points)[:,:2]\n",
    "optics = OPTICS(min_samples=50, xi=0.05, max_eps=1.0, algorithm=\"kd_tree\")\n",
    "optics.fit(X)\n",
    "labels = cluster_optics_dbscan(reachability=optics.reachability_,\n",
    "                               core_distances=optics.core_distances_,\n",
    "                               ordering=optics.ordering_,\n",
    "                               eps=0.5)\n",
    "max_label = labels.max()\n",
    "print(\"num_clusters = %d\" % (max_label + 1))\n",
    "visualize(pcd, labels)"
   ]
  },
  {
   "cell_type": "code",
   "execution_count": null,
   "id": "237cc261-d42e-4836-b089-385f262aef39",
   "metadata": {
    "tags": []
   },
   "outputs": [],
   "source": [
    "# KMeans\n",
    "from sklearn.cluster import KMeans\n",
    "num_clusters = 100\n",
    "\n",
    "X = np.asarray(pcd.points)[:,:2]\n",
    "labels = KMeans(n_clusters=num_clusters, n_init= \"auto\").fit_predict(X)\n",
    "max_label = labels.max()\n",
    "print(\"num_clusters = %d\" % (max_label + 1))\n",
    "visualize(pcd, labels)"
   ]
  },
  {
   "cell_type": "code",
   "execution_count": null,
   "id": "d04dd1ac-ac98-4a94-a139-0e1440545f15",
   "metadata": {
    "tags": []
   },
   "outputs": [],
   "source": [
    "# Bisecting KMeans\n",
    "from sklearn.cluster import BisectingKMeans\n",
    "num_clusters = 100\n",
    "\n",
    "X = np.asarray(pcd.points)[:,:2]\n",
    "labels = BisectingKMeans(n_clusters=num_clusters).fit_predict(X)\n",
    "max_label = labels.max()\n",
    "print(\"num_clusters = %d\" % (max_label + 1))\n",
    "visualize(pcd, labels)"
   ]
  },
  {
   "cell_type": "code",
   "execution_count": null,
   "id": "bc7f641d",
   "metadata": {},
   "outputs": [],
   "source": [
    "# MeanShift\n",
    "from sklearn.cluster import MeanShift\n",
    "\n",
    "X = np.asarray(pcd.points)[:,:2]\n",
    "labels = MeanShift().fit_predict(X)\n",
    "max_label = labels.max()\n",
    "print(\"num_clusters = %d\" % (max_label + 1))\n",
    "visualize(pcd, labels)"
   ]
  },
  {
   "cell_type": "code",
   "execution_count": null,
   "id": "8ca6d040",
   "metadata": {},
   "outputs": [],
   "source": [
    "# GaussianMixture\n",
    "from sklearn.mixture import GaussianMixture\n",
    "\n",
    "X = np.asarray(pcd.points)[:,:2]\n",
    "labels = GaussianMixture(n_components=100).fit_predict(X)\n",
    "max_label = labels.max()\n",
    "print(\"num_clusters = %d\" % (max_label + 1))\n",
    "visualize(pcd, labels)"
   ]
  },
  {
   "cell_type": "code",
   "execution_count": null,
   "id": "8495b84b",
   "metadata": {},
   "outputs": [],
   "source": [
    "# AgglomerativeClustering\n",
    "from sklearn.cluster import AgglomerativeClustering\n",
    "\n",
    "X = np.asarray(pcd.points)[:,:2]\n",
    "labels = AgglomerativeClustering(n_clusters=100).fit_predict(X)\n",
    "max_label = labels.max()\n",
    "print(\"num_clusters = %d\" % (max_label + 1))\n",
    "visualize(pcd, labels)"
   ]
  },
  {
   "cell_type": "code",
   "execution_count": null,
   "id": "7df16878",
   "metadata": {},
   "outputs": [],
   "source": [
    "# SpectralClustering\n",
    "from sklearn.cluster import SpectralClustering\n",
    "\n",
    "X = np.asarray(pcd.points)[:,:2]\n",
    "labels = SpectralClustering(n_clusters=100).fit_predict(X)\n",
    "max_label = labels.max()\n",
    "print(\"num_clusters = %d\" % (max_label + 1))\n",
    "visualize(pcd, labels)"
   ]
  },
  {
   "cell_type": "code",
   "execution_count": null,
   "id": "462b5ab7-70f3-4928-a43b-24543ca1b560",
   "metadata": {
    "tags": []
   },
   "outputs": [],
   "source": [
    "# Euclidean clustering\n",
    "from sklearn.neighbors import KDTree\n",
    "X = np.asarray(pcd.points)\n",
    "ec = EuclideanClustering(X, distance_threshold = 1.0, min_cluster_size=100, max_cluster_size=10000)\n",
    "visualize(pcd, labels)"
   ]
  },
  {
   "cell_type": "code",
   "execution_count": null,
   "id": "e3598ba1-b3b6-489c-a618-861a33ce38ed",
   "metadata": {
    "tags": []
   },
   "outputs": [],
   "source": [
    "#Euclidean Clustering\n",
    "import pcl\n",
    "import numpy as np\n",
    "\n",
    "pcd_file = \"/home/nived/logs/digiforest_analysis_test_data/anymal_data/payload_clouds_no_ground/cloud_1683207437_293473482.pcd\"\n",
    "cloud = pcl.load(pcd_file)\n",
    "\n",
    "#   // Create the filtering object: downsample the dataset using a leaf size of 5cm\n",
    "vg = cloud.make_voxel_grid_filter()\n",
    "vg.set_leaf_size(0.05, 0.05, 0.05)\n",
    "cloud_filtered = vg.filter()\n",
    "\n",
    "# Creating the KdTree object for the search method of the extraction\n",
    "tree = cloud_filtered.make_kdtree()\n",
    "# tree = cloud_filtered.make_kdtree_flann()\n",
    "\n",
    "# std::vector<pcl::PointIndices> cluster_indices;\n",
    "ec = cloud_filtered.make_EuclideanClusterExtraction()\n",
    "ec.set_ClusterTolerance(0.10)\n",
    "ec.set_MinClusterSize(100)\n",
    "ec.set_MaxClusterSize(25000)\n",
    "ec.set_SearchMethod(tree)\n",
    "cluster_indices = ec.Extract()\n",
    "print('cluster_indices : ' + str(len(cluster_indices)) + \" count.\")"
   ]
  },
  {
   "cell_type": "code",
   "execution_count": null,
   "id": "f5de3b2e-d676-47fc-a80f-c33ac80a000b",
   "metadata": {},
   "outputs": [],
   "source": [
    "# Get valid clusters\n"
   ]
  },
  {
   "cell_type": "code",
   "execution_count": null,
   "id": "c3183c4e-c323-4213-9432-8ee7d13d1c17",
   "metadata": {
    "tags": []
   },
   "outputs": [],
   "source": [
    "# Visualize and write clusters to disk\n",
    "cloud_cluster = pcl.PointCloud_PointXYZRGB()\n",
    "\n",
    "for j, indices in enumerate(cluster_indices):\n",
    "    # cloudsize = indices\n",
    "    print('indices = ' + str(len(indices)))\n",
    "    # cloudsize = len(indices)\n",
    "    points = np.zeros((len(indices), 4), dtype=np.float32)\n",
    "    # points = np.zeros((cloudsize, 3), dtype=np.float32)\n",
    "\n",
    "    # for indice in range(len(indices)):\n",
    "    for i, indice in enumerate(indices):\n",
    "        # print('dataNum = ' + str(i) + ', data point[x y z]: ' + str(cloud_filtered[indice][0]) + ' ' + str(cloud_filtered[indice][1]) + ' ' + str(cloud_filtered[indice][2]))\n",
    "        # print('PointCloud representing the Cluster: ' + str(cloud_cluster.size) + \" data points.\")\n",
    "        points[i][0] = cloud_filtered[indice][0]\n",
    "        points[i][1] = cloud_filtered[indice][1]\n",
    "        points[i][2] = cloud_filtered[indice][2]\n",
    "        points[i][3] = 255 << 16 | 255 << 8 | 255\n",
    "\n",
    "    cloud_cluster.from_array(points)\n",
    "    ss = \"cloud_cluster_\" + str(j) + \".pcd\"\n",
    "    pcl.save(cloud_cluster, ss)"
   ]
  },
  {
   "cell_type": "code",
   "execution_count": null,
   "id": "370f1d2a-8a9b-4c59-80d0-6a51a6d5dca2",
   "metadata": {},
   "outputs": [],
   "source": []
  }
 ],
 "metadata": {
  "kernelspec": {
   "display_name": "Python 3 (ipykernel)",
   "language": "python",
   "name": "python3"
  },
  "language_info": {
   "codemirror_mode": {
    "name": "ipython",
    "version": 3
   },
   "file_extension": ".py",
   "mimetype": "text/x-python",
   "name": "python",
   "nbconvert_exporter": "python",
   "pygments_lexer": "ipython3",
   "version": "3.8.10"
  }
 },
 "nbformat": 4,
 "nbformat_minor": 5
}
