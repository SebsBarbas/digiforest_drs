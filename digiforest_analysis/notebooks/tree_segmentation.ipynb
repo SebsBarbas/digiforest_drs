{
 "cells": [
  {
   "cell_type": "code",
   "execution_count": 16,
   "id": "a07e0c2f-7410-41e4-ac3b-9a3ffa6143cc",
   "metadata": {
    "tags": []
   },
   "outputs": [
    {
     "name": "stdout",
     "output_type": "stream",
     "text": [
      "Jupyter environment detected. Enabling Open3D WebVisualizer.\n",
      "[Open3D INFO] WebRTC GUI backend enabled.\n",
      "[Open3D INFO] WebRTCWindowSystem: HTTP handshake server disabled.\n"
     ]
    }
   ],
   "source": [
    "import open3d as o3d\n",
    "import numpy as np\n",
    "import matplotlib.pyplot as plt"
   ]
  },
  {
   "cell_type": "code",
   "execution_count": 17,
   "id": "bba32d3a-3d95-45cf-b284-355491ef85e6",
   "metadata": {
    "tags": []
   },
   "outputs": [
    {
     "name": "stdout",
     "output_type": "stream",
     "text": [
      "PointCloud with 181285 points.\n"
     ]
    }
   ],
   "source": [
    "# load data\n",
    "pcd_file = \"/home/nived/logs/digiforest_analysis_test_data/anymal_data/payload_clouds_no_ground/cloud_1683207437_293473482.pcd\"\n",
    "pcd = o3d.io.read_point_cloud(pcd_file)\n",
    "print(pcd)\n",
    "o3d.visualization.draw_geometries([pcd],\n",
    "                                  zoom=0.5,\n",
    "                                  front=[0.79, 0.02, 0.60],\n",
    "                                  lookat=[2.61, 2.04, 1.53],\n",
    "                                  up=[-0.60, -0.012, 0.79])"
   ]
  },
  {
   "cell_type": "code",
   "execution_count": null,
   "id": "3749f609-c143-4ab0-b9a0-83e46f3ff315",
   "metadata": {
    "tags": []
   },
   "outputs": [],
   "source": [
    "# DBSCAN (open3d)\n",
    "eps = 0.5\n",
    "min_cluster_size = 100\n",
    "labels = np.array(pcd.cluster_dbscan(eps=eps, min_points=min_cluster_size, print_progress=False))\n",
    "max_label = labels.max()\n",
    "print(\"num_clusters = %d\" % (max_label + 1))"
   ]
  },
  {
   "cell_type": "code",
   "execution_count": null,
   "id": "86d97afb-49e8-4b97-b687-faf106076c52",
   "metadata": {
    "tags": []
   },
   "outputs": [],
   "source": [
    "# DBSCAN (sklearn)\n",
    "from sklearn.cluster import DBSCAN\n",
    "eps = 0.5\n",
    "min_cluste_size = 100\n",
    "db = DBSCAN(eps=0.3, min_samples=min_cluster_size).fit(X)\n",
    "labels = db.labels_\n",
    "max_label = labels.max()\n",
    "print(\"num_clusters = %d\" % (max_label + 1))"
   ]
  },
  {
   "cell_type": "code",
   "execution_count": null,
   "id": "a5716d8d-4be3-4a1e-9bfe-c23a0a1b61cc",
   "metadata": {
    "tags": []
   },
   "outputs": [],
   "source": [
    "# HDBSCAN\n",
    "from sklearn.cluster import HDBSCAN\n",
    "X = np.asarray(pcd.points)\n",
    "min_cluster_size = 100\n",
    "hdb = HDBSCAN(min_cluster_size=20)\n",
    "hdb.fit(X)\n",
    "labels = hdb.labels_\n",
    "max_label = labels.max()\n",
    "print(\"num_clusters = %d\" % (max_label + 1))"
   ]
  },
  {
   "cell_type": "code",
   "execution_count": null,
   "id": "289ad4b3-b9e6-4e33-941f-bfb41d1b5047",
   "metadata": {
    "tags": []
   },
   "outputs": [],
   "source": [
    "# OPTICS (O(n^2)- Not Suitable for large pointclouds)\n",
    "from sklearn.cluster import OPTICS, cluster_optics_dbscan\n",
    "\n",
    "optics = OPTICS(min_samples=50, xi=0.05, max_eps=1.0, algorithm=\"kd_tree\")\n",
    "optics.fit(X)\n",
    "labels = cluster_optics_dbscan(reachability=optics.reachability_,\n",
    "                               core_distances=optics.core_distances_,\n",
    "                               ordering=optics.ordering_,\n",
    "                               eps=0.5)\n",
    "max_label = labels.max()\n",
    "print(\"num_clusters = %d\" % (max_label + 1))"
   ]
  },
  {
   "cell_type": "code",
   "execution_count": 78,
   "id": "237cc261-d42e-4836-b089-385f262aef39",
   "metadata": {
    "tags": []
   },
   "outputs": [
    {
     "name": "stdout",
     "output_type": "stream",
     "text": [
      "num_clusters = 50\n"
     ]
    }
   ],
   "source": [
    "# KMeans\n",
    "from sklearn.cluster import KMeans\n",
    "num_clusters = 100\n",
    "\n",
    "X = np.asarray(pcd.points)\n",
    "labels = KMeans(n_clusters=num_clusters, n_init= \"auto\").fit_predict(X)\n",
    "max_label = labels.max()\n",
    "print(\"num_clusters = %d\" % (max_label + 1))"
   ]
  },
  {
   "cell_type": "code",
   "execution_count": 83,
   "id": "d04dd1ac-ac98-4a94-a139-0e1440545f15",
   "metadata": {
    "tags": []
   },
   "outputs": [
    {
     "name": "stdout",
     "output_type": "stream",
     "text": [
      "num_clusters = 100\n"
     ]
    }
   ],
   "source": [
    "# Bisecting KMeans\n",
    "from sklearn.cluster import BisectingKMeans\n",
    "num_clusters = 100\n",
    "\n",
    "X = np.asarray(pcd.points)\n",
    "labels = BisectingKMeans(n_clusters=num_clusters).fit_predict(X)\n",
    "max_label = labels.max()\n",
    "print(\"num_clusters = %d\" % (max_label + 1))"
   ]
  },
  {
   "cell_type": "code",
   "execution_count": 90,
   "id": "462b5ab7-70f3-4928-a43b-24543ca1b560",
   "metadata": {
    "tags": []
   },
   "outputs": [],
   "source": [
    "# Euclidean clustering\n",
    "# from sklearn.neighbors import KDTree\n",
    "# X = np.asarray(pcd.points)\n",
    "# ec = EuclideanClustering(X, distance_threshold = 1.0, min_cluster_size=100, max_cluster_size=10000)\n"
   ]
  },
  {
   "cell_type": "code",
   "execution_count": 87,
   "id": "83001297-f986-4eb8-a0a4-1f13cc572a07",
   "metadata": {
    "tags": []
   },
   "outputs": [],
   "source": [
    "# Visualize segmentation results\n",
    "cmap = plt.get_cmap(\"tab20\")\n",
    "colors = cmap(labels / (max_label if max_label > 0 else 1))\n",
    "colors[labels < 0] = 0\n",
    "pcd.colors = o3d.utility.Vector3dVector(colors[:, :3])\n",
    "o3d.visualization.draw_geometries([pcd],\n",
    "                                  zoom=0.5,\n",
    "                                  front=[0.79, 0.02, 0.60],\n",
    "                                  lookat=[2.61, 2.04, 1.53],\n",
    "                                  up=[-0.60, -0.012, 0.79])"
   ]
  },
  {
   "cell_type": "code",
   "execution_count": 89,
   "id": "47920319-1fd4-423a-af92-c135f7b8b46d",
   "metadata": {
    "tags": []
   },
   "outputs": [
    {
     "name": "stdout",
     "output_type": "stream",
     "text": [
      "25\n"
     ]
    }
   ],
   "source": [
    "print(max_labels)"
   ]
  },
  {
   "cell_type": "code",
   "execution_count": 11,
   "id": "e3598ba1-b3b6-489c-a618-861a33ce38ed",
   "metadata": {
    "tags": []
   },
   "outputs": [
    {
     "name": "stdout",
     "output_type": "stream",
     "text": [
      "cluster_indices : 102 count.\n"
     ]
    }
   ],
   "source": [
    "#Euclidean Clustering\n",
    "import pcl\n",
    "import numpy as np\n",
    "\n",
    "pcd_file = \"/home/nived/logs/digiforest_analysis_test_data/anymal_data/payload_clouds_no_ground/cloud_1683207437_293473482.pcd\"\n",
    "cloud = pcl.load(pcd_file)\n",
    "\n",
    "#   // Create the filtering object: downsample the dataset using a leaf size of 5cm\n",
    "vg = cloud.make_voxel_grid_filter()\n",
    "vg.set_leaf_size(0.05, 0.05, 0.05)\n",
    "cloud_filtered = vg.filter()\n",
    "\n",
    "# Creating the KdTree object for the search method of the extraction\n",
    "tree = cloud_filtered.make_kdtree()\n",
    "# tree = cloud_filtered.make_kdtree_flann()\n",
    "\n",
    "# std::vector<pcl::PointIndices> cluster_indices;\n",
    "ec = cloud_filtered.make_EuclideanClusterExtraction()\n",
    "ec.set_ClusterTolerance(0.10)\n",
    "ec.set_MinClusterSize(100)\n",
    "ec.set_MaxClusterSize(25000)\n",
    "ec.set_SearchMethod(tree)\n",
    "cluster_indices = ec.Extract()\n",
    "print('cluster_indices : ' + str(len(cluster_indices)) + \" count.\")"
   ]
  },
  {
   "cell_type": "code",
   "execution_count": null,
   "id": "f5de3b2e-d676-47fc-a80f-c33ac80a000b",
   "metadata": {},
   "outputs": [],
   "source": [
    "# Get valid clusters\n"
   ]
  },
  {
   "cell_type": "code",
   "execution_count": 15,
   "id": "c3183c4e-c323-4213-9432-8ee7d13d1c17",
   "metadata": {
    "tags": []
   },
   "outputs": [
    {
     "name": "stdout",
     "output_type": "stream",
     "text": [
      "indices = 3826\n",
      "indices = 1166\n",
      "indices = 719\n",
      "indices = 679\n",
      "indices = 675\n",
      "indices = 649\n",
      "indices = 626\n",
      "indices = 619\n",
      "indices = 611\n",
      "indices = 608\n",
      "indices = 597\n",
      "indices = 591\n",
      "indices = 582\n",
      "indices = 573\n",
      "indices = 543\n",
      "indices = 502\n",
      "indices = 467\n",
      "indices = 437\n",
      "indices = 436\n",
      "indices = 435\n",
      "indices = 420\n",
      "indices = 410\n",
      "indices = 398\n",
      "indices = 398\n",
      "indices = 390\n",
      "indices = 386\n",
      "indices = 379\n",
      "indices = 374\n",
      "indices = 368\n",
      "indices = 368\n",
      "indices = 329\n",
      "indices = 329\n",
      "indices = 325\n",
      "indices = 313\n",
      "indices = 305\n",
      "indices = 292\n",
      "indices = 276\n",
      "indices = 266\n",
      "indices = 265\n",
      "indices = 258\n",
      "indices = 253\n",
      "indices = 247\n",
      "indices = 246\n",
      "indices = 239\n",
      "indices = 236\n",
      "indices = 236\n",
      "indices = 235\n",
      "indices = 235\n",
      "indices = 229\n",
      "indices = 219\n",
      "indices = 218\n",
      "indices = 209\n",
      "indices = 206\n",
      "indices = 201\n",
      "indices = 201\n",
      "indices = 201\n",
      "indices = 198\n",
      "indices = 197\n",
      "indices = 192\n",
      "indices = 179\n",
      "indices = 175\n",
      "indices = 168\n",
      "indices = 165\n",
      "indices = 155\n",
      "indices = 145\n",
      "indices = 139\n",
      "indices = 139\n",
      "indices = 139\n",
      "indices = 135\n",
      "indices = 133\n",
      "indices = 133\n",
      "indices = 132\n",
      "indices = 132\n",
      "indices = 130\n",
      "indices = 127\n",
      "indices = 127\n",
      "indices = 123\n",
      "indices = 122\n",
      "indices = 121\n",
      "indices = 119\n",
      "indices = 118\n",
      "indices = 117\n",
      "indices = 116\n",
      "indices = 114\n",
      "indices = 114\n",
      "indices = 113\n",
      "indices = 112\n",
      "indices = 112\n",
      "indices = 111\n",
      "indices = 108\n",
      "indices = 108\n",
      "indices = 108\n",
      "indices = 108\n",
      "indices = 105\n",
      "indices = 104\n",
      "indices = 104\n",
      "indices = 103\n",
      "indices = 103\n",
      "indices = 102\n",
      "indices = 102\n",
      "indices = 101\n",
      "indices = 101\n"
     ]
    }
   ],
   "source": [
    "# Visualize and write clusters to disk\n",
    "cloud_cluster = pcl.PointCloud_PointXYZRGB()\n",
    "\n",
    "for j, indices in enumerate(cluster_indices):\n",
    "    # cloudsize = indices\n",
    "    print('indices = ' + str(len(indices)))\n",
    "    # cloudsize = len(indices)\n",
    "    points = np.zeros((len(indices), 4), dtype=np.float32)\n",
    "    # points = np.zeros((cloudsize, 3), dtype=np.float32)\n",
    "\n",
    "    # for indice in range(len(indices)):\n",
    "    for i, indice in enumerate(indices):\n",
    "        # print('dataNum = ' + str(i) + ', data point[x y z]: ' + str(cloud_filtered[indice][0]) + ' ' + str(cloud_filtered[indice][1]) + ' ' + str(cloud_filtered[indice][2]))\n",
    "        # print('PointCloud representing the Cluster: ' + str(cloud_cluster.size) + \" data points.\")\n",
    "        points[i][0] = cloud_filtered[indice][0]\n",
    "        points[i][1] = cloud_filtered[indice][1]\n",
    "        points[i][2] = cloud_filtered[indice][2]\n",
    "        points[i][3] = 255 << 16 | 255 << 8 | 255\n",
    "\n",
    "    cloud_cluster.from_array(points)\n",
    "    ss = \"cloud_cluster_\" + str(j) + \".pcd\"\n",
    "    pcl.save(cloud_cluster, ss)"
   ]
  },
  {
   "cell_type": "code",
   "execution_count": null,
   "id": "370f1d2a-8a9b-4c59-80d0-6a51a6d5dca2",
   "metadata": {},
   "outputs": [],
   "source": []
  }
 ],
 "metadata": {
  "kernelspec": {
   "display_name": "Python 3 (ipykernel)",
   "language": "python",
   "name": "python3"
  },
  "language_info": {
   "codemirror_mode": {
    "name": "ipython",
    "version": 3
   },
   "file_extension": ".py",
   "mimetype": "text/x-python",
   "name": "python",
   "nbconvert_exporter": "python",
   "pygments_lexer": "ipython3",
   "version": "3.8.10"
  }
 },
 "nbformat": 4,
 "nbformat_minor": 5
}
