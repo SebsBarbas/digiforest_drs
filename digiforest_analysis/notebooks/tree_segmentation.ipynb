{
 "cells": [
  {
   "cell_type": "code",
   "execution_count": 74,
   "id": "a07e0c2f-7410-41e4-ac3b-9a3ffa6143cc",
   "metadata": {
    "tags": []
   },
   "outputs": [],
   "source": [
    "import open3d as o3d\n",
    "import numpy as np\n",
    "import matplotlib.pyplot as plt"
   ]
  },
  {
   "cell_type": "code",
   "execution_count": 75,
   "id": "bba32d3a-3d95-45cf-b284-355491ef85e6",
   "metadata": {
    "tags": []
   },
   "outputs": [
    {
     "name": "stdout",
     "output_type": "stream",
     "text": [
      "PointCloud with 181285 points.\n"
     ]
    }
   ],
   "source": [
    "# load data\n",
    "pcd_file = \"/home/nived/logs/digiforest_analysis_test_data/anymal_data/payload_clouds_no_ground/cloud_1683207437_293473482.pcd\"\n",
    "pcd = o3d.io.read_point_cloud(pcd_file)\n",
    "print(pcd)\n",
    "o3d.visualization.draw_geometries([pcd],\n",
    "                                  zoom=0.5,\n",
    "                                  front=[0.79, 0.02, 0.60],\n",
    "                                  lookat=[2.61, 2.04, 1.53],\n",
    "                                  up=[-0.60, -0.012, 0.79])"
   ]
  },
  {
   "cell_type": "code",
   "execution_count": null,
   "id": "3749f609-c143-4ab0-b9a0-83e46f3ff315",
   "metadata": {
    "tags": []
   },
   "outputs": [],
   "source": [
    "# DBSCAN (open3d)\n",
    "eps = 0.5\n",
    "min_cluster_size = 100\n",
    "labels = np.array(pcd.cluster_dbscan(eps=eps, min_points=min_cluster_size, print_progress=False))\n",
    "max_label = labels.max()\n",
    "print(\"num_clusters = %d\" % (max_label + 1))"
   ]
  },
  {
   "cell_type": "code",
   "execution_count": null,
   "id": "86d97afb-49e8-4b97-b687-faf106076c52",
   "metadata": {
    "tags": []
   },
   "outputs": [],
   "source": [
    "# DBSCAN (sklearn)\n",
    "from sklearn.cluster import DBSCAN\n",
    "eps = 0.5\n",
    "min_cluste_size = 100\n",
    "db = DBSCAN(eps=0.3, min_samples=min_cluster_size).fit(X)\n",
    "labels = db.labels_\n",
    "max_label = labels.max()\n",
    "print(\"num_clusters = %d\" % (max_label + 1))"
   ]
  },
  {
   "cell_type": "code",
   "execution_count": null,
   "id": "a5716d8d-4be3-4a1e-9bfe-c23a0a1b61cc",
   "metadata": {
    "tags": []
   },
   "outputs": [],
   "source": [
    "# HDBSCAN\n",
    "from sklearn.cluster import HDBSCAN\n",
    "X = np.asarray(pcd.points)\n",
    "min_cluster_size = 100\n",
    "hdb = HDBSCAN(min_cluster_size=20)\n",
    "hdb.fit(X)\n",
    "labels = hdb.labels_\n",
    "max_label = labels.max()\n",
    "print(\"num_clusters = %d\" % (max_label + 1))"
   ]
  },
  {
   "cell_type": "code",
   "execution_count": null,
   "id": "289ad4b3-b9e6-4e33-941f-bfb41d1b5047",
   "metadata": {
    "tags": []
   },
   "outputs": [],
   "source": [
    "# OPTICS (O(n^2)- Not Suitable for large pointclouds)\n",
    "from sklearn.cluster import OPTICS, cluster_optics_dbscan\n",
    "\n",
    "optics = OPTICS(min_samples=50, xi=0.05, max_eps=1.0, algorithm=\"kd_tree\")\n",
    "optics.fit(X)\n",
    "labels = cluster_optics_dbscan(reachability=optics.reachability_,\n",
    "                               core_distances=optics.core_distances_,\n",
    "                               ordering=optics.ordering_,\n",
    "                               eps=0.5)\n",
    "max_label = labels.max()\n",
    "print(\"num_clusters = %d\" % (max_label + 1))"
   ]
  },
  {
   "cell_type": "code",
   "execution_count": 78,
   "id": "237cc261-d42e-4836-b089-385f262aef39",
   "metadata": {
    "tags": []
   },
   "outputs": [
    {
     "name": "stdout",
     "output_type": "stream",
     "text": [
      "num_clusters = 50\n"
     ]
    }
   ],
   "source": [
    "# KMeans\n",
    "from sklearn.cluster import KMeans\n",
    "num_clusters = 100\n",
    "\n",
    "X = np.asarray(pcd.points)\n",
    "labels = KMeans(n_clusters=num_clusters, n_init= \"auto\").fit_predict(X)\n",
    "max_label = labels.max()\n",
    "print(\"num_clusters = %d\" % (max_label + 1))"
   ]
  },
  {
   "cell_type": "code",
   "execution_count": 83,
   "id": "d04dd1ac-ac98-4a94-a139-0e1440545f15",
   "metadata": {
    "tags": []
   },
   "outputs": [
    {
     "name": "stdout",
     "output_type": "stream",
     "text": [
      "num_clusters = 100\n"
     ]
    }
   ],
   "source": [
    "# Bisecting KMeans\n",
    "from sklearn.cluster import BisectingKMeans\n",
    "num_clusters = 100\n",
    "\n",
    "X = np.asarray(pcd.points)\n",
    "labels = BisectingKMeans(n_clusters=num_clusters).fit_predict(X)\n",
    "max_label = labels.max()\n",
    "print(\"num_clusters = %d\" % (max_label + 1))"
   ]
  },
  {
   "cell_type": "code",
   "execution_count": 90,
   "id": "462b5ab7-70f3-4928-a43b-24543ca1b560",
   "metadata": {
    "tags": []
   },
   "outputs": [],
   "source": [
    "# Euclidean clustering\n",
    "from sklearn.neighbors import KDTree\n",
    "X = np.asarray(pcd.points)\n",
    "\n",
    "ec = EuclideanClustering(X, distance_threshold = 1.0, min_cluster_size=100, max_cluster_size=10000)\n"
   ]
  },
  {
   "cell_type": "code",
   "execution_count": 87,
   "id": "83001297-f986-4eb8-a0a4-1f13cc572a07",
   "metadata": {
    "tags": []
   },
   "outputs": [],
   "source": [
    "# Visualize segmentation results\n",
    "cmap = plt.get_cmap(\"tab20\")\n",
    "colors = cmap(labels / (max_label if max_label > 0 else 1))\n",
    "colors[labels < 0] = 0\n",
    "pcd.colors = o3d.utility.Vector3dVector(colors[:, :3])\n",
    "o3d.visualization.draw_geometries([pcd],\n",
    "                                  zoom=0.5,\n",
    "                                  front=[0.79, 0.02, 0.60],\n",
    "                                  lookat=[2.61, 2.04, 1.53],\n",
    "                                  up=[-0.60, -0.012, 0.79])"
   ]
  },
  {
   "cell_type": "code",
   "execution_count": 89,
   "id": "47920319-1fd4-423a-af92-c135f7b8b46d",
   "metadata": {
    "tags": []
   },
   "outputs": [
    {
     "name": "stdout",
     "output_type": "stream",
     "text": [
      "25\n"
     ]
    }
   ],
   "source": [
    "print(max_labels)"
   ]
  },
  {
   "cell_type": "code",
   "execution_count": 91,
   "id": "69edde1f-c493-43b5-80c5-767877fc9c7f",
   "metadata": {
    "tags": []
   },
   "outputs": [
    {
     "data": {
      "text/plain": [
       "<sklearn.neighbors._kd_tree.KDTree at 0x7f1ef90ae660>"
      ]
     },
     "execution_count": 91,
     "metadata": {},
     "output_type": "execute_result"
    }
   ],
   "source": [
    "X_tree"
   ]
  },
  {
   "cell_type": "code",
   "execution_count": null,
   "id": "5b3b4fb9-c631-49c3-88f1-94827939b15f",
   "metadata": {},
   "outputs": [],
   "source": [
    "X_tree."
   ]
  }
 ],
 "metadata": {
  "kernelspec": {
   "display_name": "Python 3 (ipykernel)",
   "language": "python",
   "name": "python3"
  },
  "language_info": {
   "codemirror_mode": {
    "name": "ipython",
    "version": 3
   },
   "file_extension": ".py",
   "mimetype": "text/x-python",
   "name": "python",
   "nbconvert_exporter": "python",
   "pygments_lexer": "ipython3",
   "version": "3.8.10"
  }
 },
 "nbformat": 4,
 "nbformat_minor": 5
}
